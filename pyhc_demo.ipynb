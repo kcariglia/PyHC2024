{
 "cells": [
  {
   "cell_type": "markdown",
   "metadata": {},
   "source": [
    "<h2>An introduction to using python to access Madrigal data (madrigalWeb)</h2>"
   ]
  },
  {
   "cell_type": "markdown",
   "metadata": {},
   "source": [
    "#### This notebook available at https://github.mit.edu/pages/cariglia/pyhc_summer_school_2024/pyhc_demo.ipynb\n",
    "\n",
    "To download the latest Python Madrigal API, go to http://cedar.openmadrigal.org/madrigalDownload/, or use pip:\n",
    "\n",
    "<pre>pip install madrigalWeb</pre>\n",
    "\n",
    "This module should work with either python 2 or python 3.\n",
    "\n",
    "Then feel free to follow along with this talk!\n",
    "\n",
    "Url of  Madrigal CEDAR database: http://cedar.openmadrigal.org\n",
    "\n",
    "Online resources: <a href=\"http://cedar.openmadrigal.org/docs/name/rt_python.html\">Tutorial</a> and <a href=\"http://http://cedar.openmadrigal.org/docs/name/rr_python.html\">Reference</a>\n",
    "\n",
    "Any questions: Email me (Katherine Cariglia) at <a href=\"mailto:cariglia@mit.edu\">cariglia@mit.edu</a>"
   ]
  },
  {
   "cell_type": "code",
   "execution_count": 1,
   "metadata": {
    "vscode": {
     "languageId": "plaintext"
    }
   },
   "outputs": [],
   "source": [
    "import madrigalWeb.madrigalWeb"
   ]
  },
  {
   "cell_type": "markdown",
   "metadata": {},
   "source": [
    "The next command connects to one particular Madrigal site, and creates an object we will use for the rest of the session."
   ]
  },
  {
   "cell_type": "code",
   "execution_count": 2,
   "metadata": {
    "vscode": {
     "languageId": "plaintext"
    }
   },
   "outputs": [],
   "source": [
    "madDB = madrigalWeb.madrigalWeb.MadrigalData('http://cedar.openmadrigal.org')"
   ]
  },
  {
   "cell_type": "markdown",
   "metadata": {},
   "source": [
    "#### Data access and filtering methods\n",
    "The top level of metadata at any site is the instruments it has available. This next method lists the available instruments, each of which is a MadrigalInstrument object."
   ]
  },
  {
   "cell_type": "code",
   "execution_count": 3,
   "metadata": {
    "vscode": {
     "languageId": "plaintext"
    }
   },
   "outputs": [],
   "source": [
    "instList = madDB.getAllInstruments()"
   ]
  },
  {
   "cell_type": "markdown",
   "metadata": {},
   "source": [
    "MadrigalInstrument objects have the following attributes:\n",
    "\n",
    "- name (string)\n",
    "- code (int)\n",
    "- mnemonic (3 char string)\n",
    "- latitude (double)\n",
    "- longitude (double)\n",
    "- category (string)\n",
    "\n",
    "Which can be used to search for instruments matching your criteria. \n",
    "For example, you can search for magnetometers in the Southern hemisphere with the following:"
   ]
  },
  {
   "cell_type": "code",
   "execution_count": 4,
   "metadata": {
    "vscode": {
     "languageId": "plaintext"
    }
   },
   "outputs": [
    {
     "name": "stdout",
     "output_type": "stream",
     "text": [
      "name: Jicamarca Magnetometer\n",
      "code: 8250\n",
      "mnemonic: jmt\n",
      "latitude: -11.92\n",
      "longitude: 283.13\n",
      "altitude: 0.525\n",
      "category: Magnetometers\n",
      "\n"
     ]
    }
   ],
   "source": [
    "import numpy\n",
    "instcat = numpy.asarray([x.category for x in instList])\n",
    "instlat = numpy.asarray([x.latitude for x in instList])\n",
    "maglist = numpy.argwhere((numpy.char.find(instcat, 'Magnetometer') > -1) & (instlat < 0))\n",
    "\n",
    "print(instList[maglist[0][0]])"
   ]
  },
  {
   "cell_type": "markdown",
   "metadata": {},
   "source": [
    "Note that the code associated with the Jicamarca Magnetometer is 8250 (not related to its position in the list, which may change).  Also refered to as the kinst.  This will be used throughout the rest of the calls to refer to this instrument.\n",
    "\n",
    "The next level of metadata at any site contains the experiments available for a given instrument, each of which is a MadrigalExperiment object. The next method lists the available experiments for the Jicamarca Magnetometer over the date range of March 2010:"
   ]
  },
  {
   "cell_type": "code",
   "execution_count": 5,
   "metadata": {
    "vscode": {
     "languageId": "plaintext"
    }
   },
   "outputs": [
    {
     "name": "stdout",
     "output_type": "stream",
     "text": [
      "id: 100261858\n",
      "realUrl: http://cedar.openmadrigal.org/showExperiment/?experiment_list=100261858\n",
      "url: http://cedar.openmadrigal.org/madtoc/experiments/2010/jmt/01mar10M\n",
      "name: Jicamarca Magnetometer mode\n",
      "siteid: 10\n",
      "sitename: CEDAR\n",
      "instcode: 8250\n",
      "instname: Jicamarca Magnetometer\n",
      "startyear: 2010\n",
      "startmonth: 3\n",
      "startday: 1\n",
      "starthour: 0\n",
      "startmin: 1\n",
      "startsec: 0\n",
      "endyear: 2010\n",
      "endmonth: 3\n",
      "endday: 23\n",
      "endhour: 20\n",
      "endmin: 56\n",
      "endsec: 0\n",
      "isLocal: True\n",
      "madrigalUrl: http://cedar.openmadrigal.org/\n",
      "PI: Marco Milla\n",
      "PIEmail: marco.milla@jro.igp.gob.pe\n",
      "uttimestamp: 1670877880\n",
      "access: 2\n",
      "Madrigal version: 3.2\n",
      "\n"
     ]
    }
   ],
   "source": [
    "exps = madDB.getExperiments(8250, 2010,3,1,0,0,0,2010,4,1,0,0,0)\n",
    "print(exps[0])"
   ]
  },
  {
   "cell_type": "markdown",
   "metadata": {},
   "source": [
    "MadrigalExperiment objects have the following attributes:\n",
    "\n",
    "- id (int)\n",
    "- realUrl (string)\n",
    "- url (string) \n",
    "- name (string)\n",
    "- siteid (int)\n",
    "- sitename (string)\n",
    "- instcode (int)\n",
    "- instname (string)\n",
    "- startyear (int)\n",
    "- startmonth (int)\n",
    "- startday (int)\n",
    "- starthour (int)\n",
    "- startmin (int)\n",
    "- startsec (int)\n",
    "- endyear (int)\n",
    "- endmonth (int)\n",
    "- endday (int)\n",
    "- endhour (int)\n",
    "- endmin (int)\n",
    "- endsec (int)\n",
    "- isLocal (bool)\n",
    "- madrigalUrl (string)\n",
    "- pi (string)\n",
    "- piEmail (string)\n",
    "- uttimestamp (st_mtime)\n",
    "- access (int)\n",
    "- version (int)\n",
    "\n",
    "Which can be used to filter the results returned from the call to getExperiments() in a similar manner as the call to getInstruments()-- perhaps by keyword in MadrigalExperiment.name. \n",
    "\n",
    "The next call gets all the files in that experiment, each of which is a MadrigalExperimentFile object.  An experiment may contain different types of data, as will be described in the kind of data description (kindatdesc):"
   ]
  },
  {
   "cell_type": "code",
   "execution_count": 6,
   "metadata": {
    "vscode": {
     "languageId": "plaintext"
    }
   },
   "outputs": [
    {
     "name": "stdout",
     "output_type": "stream",
     "text": [
      "name: /opt/cedar3/experiments/2010/jmt/01mar10M/jic20100301_mag.001.hdf5\n",
      "kindat: 1700\n",
      "kindatdesc: Jicamarca Magnetometers\n",
      "category: 1\n",
      "status: Jicamarca Magnetometer\n",
      "permission: 0\n",
      "expId: 100261858\n",
      "doi: https://w3id.org/cedar?experiment_list=experiments/2010/jmt/01mar10M&file_list=jic20100301_mag.001.hdf5\n",
      "\n"
     ]
    }
   ],
   "source": [
    "files = madDB.getExperimentFiles(exps[0].id)\n",
    "print(files[0])"
   ]
  },
  {
   "cell_type": "markdown",
   "metadata": {},
   "source": [
    "MadrigalExperimentFile objects have the following attributes:\n",
    "\n",
    "- name (string)\n",
    "- kindat (int)\n",
    "- kindatdesc (string)\n",
    "- category (int)\n",
    "- status (string)\n",
    "- permission (int)\n",
    "- expId (int)\n",
    "- doi (string)\n",
    "\n",
    "Which can be used to filter the results returned from the call to getExperimentFiles() in a similar manner as the call to getInstruments() and getExperiments()-- perhaps by keyword in MadrigalExperimentFile.kindatdesc. \n",
    "\n",
    "As a simple example, let's just download this data as is. \n",
    "\n",
    "Because Madrigal is not login controlled, logging is done by you passing in unverified identification information - your name, email, and affiliation.  Below I set up my personal info - <b>please change this to yours when you use this API!</b>"
   ]
  },
  {
   "cell_type": "code",
   "execution_count": 7,
   "metadata": {
    "vscode": {
     "languageId": "plaintext"
    }
   },
   "outputs": [],
   "source": [
    "user_fullname = 'Student Example' \n",
    "user_email = 'pyhc@gmail.com' \n",
    "user_affiliation= 'PyHC Summer School 2024'"
   ]
  },
  {
   "cell_type": "markdown",
   "metadata": {},
   "source": [
    "Now let's say I wanted to know what parameters were in this file.  You can get that from the API also:"
   ]
  },
  {
   "cell_type": "code",
   "execution_count": 8,
   "metadata": {
    "vscode": {
     "languageId": "plaintext"
    }
   },
   "outputs": [
    {
     "name": "stdout",
     "output_type": "stream",
     "text": [
      "mnemonic: DUT21\n",
      "description: Variation in UT (UT2 - UT1)\n",
      "isError: 0\n",
      "units: s\n",
      "isMeasured: 0\n",
      "category: Time Related Parameter\n",
      "isSure: 1\n",
      "isAddIncrement: -1\n",
      "\n"
     ]
    }
   ],
   "source": [
    "madDB.downloadFile(files[0].name, '/tmp/test.hdf5', user_fullname, user_email, user_affiliation, format='hdf5')\n",
    "parms = madDB.getExperimentFileParameters(files[0].name)\n",
    "print(parms[45])"
   ]
  },
  {
   "cell_type": "markdown",
   "metadata": {},
   "source": [
    "You can directly print the records in any file in a simple ascii format using simplePrint():"
   ]
  },
  {
   "cell_type": "code",
   "execution_count": 9,
   "metadata": {
    "vscode": {
     "languageId": "plaintext"
    }
   },
   "outputs": [
    {
     "name": "stdout",
     "output_type": "stream",
     "text": [
      "YEAR     MONTH       DAY      HOUR       MIN       SEC        YEAR       MONTH      DAY        HOUR       MIN        SEC        RECNO      KINDAT     KINST      UT1_UNIX   UT2_UNIX   GDLATR     GDLONR     GDLAT2     GLON2      BN         BE         BD         BMAG       BDEC       BINC       BH         BDH        HAV0LT_L   HAV0LT_R   \n",
      "     2010         3         1         0         1        30          0       1700       8250 1267401660.000   1267401720.000   -1.19200e+01  -7.88700e+01      -5.18     -80.64   2.54690e-05  -2.65920e-07   3.36000e-07   2.54726e-05  -5.98200e-01   7.55800e-01   2.54704e-05           nan           nan           nan  \n",
      "     2010         3         1         0         2        30          1       1700       8250 1267401720.000   1267401780.000   -1.19200e+01  -7.88700e+01      -5.18     -80.64   2.54685e-05  -2.66093e-07   3.35800e-07   2.54721e-05  -5.98600e-01   7.55300e-01   2.54699e-05   1.10000e-09   2.54670e-05   2.72911e-05  \n",
      "     2010         3       \n"
     ]
    }
   ],
   "source": [
    "asciiData = madDB.simplePrint(files[0].name, user_fullname, user_email, user_affiliation)\n",
    "print(asciiData[0:1000])"
   ]
  },
  {
   "cell_type": "markdown",
   "metadata": {},
   "source": [
    "Or, you can download the file with only parameters you select, using filters to remove unwanted data.\n",
    "A list of all valid CEDAR Madrigal parameters can be found at http://madrigal3.haystack.mit.edu/parameterMetadata/.  A description of how to write filter strings are at http://madrigal3.haystack.mit.edu/filterMetadata/ \n",
    "\n",
    "In this example, we choose the following parameters:\n",
    "\n",
    "- YEAR\n",
    "- MONTH\n",
    "- DAY\n",
    "- HOUR\n",
    "- MIN\n",
    "- SEC\n",
    "- BN\n",
    "- BE\n",
    "- BD\n",
    "\n",
    "The filter applied will limit BN to be between 2.5e-5 - 2.6e-5 teslas and BE to be greater than -2.7e-7 teslas. The filter string is then \"filter=bn,.000025,.000026 filter=be,-.00000027,\", where the blank in the BE filter denotes no upper limit."
   ]
  },
  {
   "cell_type": "code",
   "execution_count": 10,
   "metadata": {
    "vscode": {
     "languageId": "plaintext"
    }
   },
   "outputs": [],
   "source": [
    "filterStr = \"filter=bn,.000025,.000026 filter=be,-.00000027,\"\n",
    "parms = \"YEAR,MONTH,DAY,HOUR,MIN,SEC,BN,BE,BD\"\n",
    "result = madDB.isprint(files[0].name, parms, filterStr, user_fullname, user_email, user_affiliation)"
   ]
  },
  {
   "cell_type": "code",
   "execution_count": 11,
   "metadata": {
    "vscode": {
     "languageId": "plaintext"
    }
   },
   "outputs": [
    {
     "name": "stdout",
     "output_type": "stream",
     "text": [
      "     2010         3         1         0         1        30  2.54690e-05  -2.65920e-07   3.36000e-07  \n",
      "     2010         3         1         0         2        30  2.54685e-05  -2.66093e-07   3.35800e-07  \n",
      "     2010         3         1         0         3        30  2.54686e-05  -2.65516e-07   3.35800e-07  \n",
      "     2010         3         1         0         4        30  2.54679e-05  -2.66665e-07   3.35800e-07  \n",
      "     2010         3         1         0         5        30  2.54678e-05  -2.66263e-07   3.36400e-07  \n"
     ]
    }
   ],
   "source": [
    "lines = result.split('\\n')\n",
    "for line in lines[:5]:\n",
    "    print(line)"
   ]
  },
  {
   "cell_type": "markdown",
   "metadata": {},
   "source": [
    "#### Plotting with Madrigal data\n",
    "After downloading a file, you can make simple timeseries plots with the following code.\n",
    "\n",
    "First, extract the requested datasets (we will be plotting only the northward component of the geomagnetic field in this example):"
   ]
  },
  {
   "cell_type": "code",
   "execution_count": 12,
   "metadata": {
    "vscode": {
     "languageId": "plaintext"
    }
   },
   "outputs": [],
   "source": [
    "import h5py\n",
    "import datetime\n",
    "import matplotlib.pyplot\n",
    "h5File = h5py.File('/tmp/test.hdf5', 'r')\n",
    "year = h5File[\"Data/Table Layout\"][\"year\"]\n",
    "month = h5File[\"Data/Table Layout\"][\"month\"]\n",
    "day = h5File[\"Data/Table Layout\"][\"day\"]\n",
    "hour = h5File[\"Data/Table Layout\"][\"hour\"]\n",
    "min = h5File[\"Data/Table Layout\"][\"min\"]\n",
    "sec = h5File[\"Data/Table Layout\"][\"sec\"]\n",
    "bn = h5File[\"Data/Table Layout\"][\"bn\"]"
   ]
  },
  {
   "cell_type": "markdown",
   "metadata": {},
   "source": [
    "Create a list of datetimes:"
   ]
  },
  {
   "cell_type": "code",
   "execution_count": 13,
   "metadata": {
    "vscode": {
     "languageId": "plaintext"
    }
   },
   "outputs": [],
   "source": [
    "datetimes = []\n",
    "for i in range(len(year)):\n",
    "    currentDT = datetime.datetime(int(year[i]), int(month[i]), int(day[i]),\n",
    "        int(hour[i]), int(min[i]), int(sec[i]))\n",
    "    datetimes.append(currentDT)"
   ]
  },
  {
   "cell_type": "markdown",
   "metadata": {},
   "source": [
    "Add some label formatting and then plot:"
   ]
  },
  {
   "cell_type": "code",
   "execution_count": 14,
   "metadata": {
    "vscode": {
     "languageId": "plaintext"
    }
   },
   "outputs": [
    {
     "data": {
      "image/png": "[encoded data removed]",
      "text/plain": [
       "<Figure size 640x480 with 1 Axes>"
      ]
     },
     "metadata": {},
     "output_type": "display_data"
    }
   ],
   "source": [
    "for label in matplotlib.pyplot.xticks()[1]:\n",
    "    label.set(rotation=30, size=6)\n",
    "matplotlib.pyplot.plot(datetimes, bn)\n",
    "matplotlib.pyplot.xlabel(\"Day and hour\")\n",
    "matplotlib.pyplot.ylabel(\"Northward component of magnetic field\")\n",
    "matplotlib.pyplot.grid()\n",
    "matplotlib.pyplot.show()"
   ]
  },
  {
   "cell_type": "markdown",
   "metadata": {},
   "source": [
    "#### Other tools available in the madrigalWeb API"
   ]
  },
  {
   "cell_type": "markdown",
   "metadata": {},
   "source": [
    "##### madCalculator\n",
    "madCalculator is a service that calculates the values of requested paramters for the given time in the given location range. Its input arguments are:\n",
    "\n",
    "- year (int)\n",
    "- month (int)\n",
    "- day (int)\n",
    "- hour (int)\n",
    "- min (int)\n",
    "- sec (int)\n",
    "- startLat (float): start latitude in range -90 to 90\n",
    "- endLat (float): end latitude in range -90 to 90\n",
    "- stepLat (float): latitude step (0 - 90)\n",
    "- startLong (float): start longitude in range -180 to 180\n",
    "- endLong (float): end longitude in range -180 to 180\n",
    "- stepLong (float): longitude step (0 - 180)\n",
    "- startAlt (float): start altitude in km\n",
    "- endAlt (float): end altitude in km\n",
    "- stepAlt (float): altitude step \n",
    "- parms: comma delimited string of requested Madrigal parameters in the same format used in isprint\n",
    "- oneDParmList (optional): a list of 1D parameters whose values should be set for calculation\n",
    "- oneDParmValues (optional): a list of values associated with the 1D parameters specified in oneDParmList\n",
    "\n",
    "The result is returned as a list of lists of doubles, where each list contains the input latitude, longitude, altitude, and each of the calculated values. If the value cannot be calculated, it will be set to nan.\n",
    "\n",
    "We will be testing the madCalculator service with the following input parameters:\n",
    "- datetime: 1999-02-15 12:30:00\n",
    "- startLat: 45\n",
    "- endLat: 55\n",
    "- stepLat: 5\n",
    "- startLon: -170\n",
    "- endLonL -150\n",
    "- stepLon: 10\n",
    "- startAlt: 200\n",
    "- endAlt: 200\n",
    "- stepAlt: 0\n",
    "- parameters: BMAG, BN"
   ]
  },
  {
   "cell_type": "code",
   "execution_count": 16,
   "metadata": {
    "vscode": {
     "languageId": "plaintext"
    }
   },
   "outputs": [
    {
     "name": "stdout",
     "output_type": "stream",
     "text": [
      "[[45.0, -170.0, 200.0, 4.2414e-05, 1.97545e-05], [45.0, -160.0, 200.0, 4.32101e-05, 1.92452e-05], [50.0, -170.0, 200.0, 4.465e-05, 1.80439e-05], [50.0, -160.0, 200.0, 4.53996e-05, 1.7472e-05]]\n"
     ]
    }
   ],
   "source": [
    "result = madDB.madCalculator(1999,2,15,12,30,0,45,55,5,-170,-150,10,200,200,0,'bmag,bn')\n",
    "print(result)"
   ]
  },
  {
   "cell_type": "markdown",
   "metadata": {},
   "source": [
    "##### traceMagneticField\n",
    "traceMagneticField returns a point along a magnetic field line for each point specified by the lists alts, lats, lons. \n",
    "Traces to either: \n",
    "1. conjugate point \n",
    "2. intersection with a given altitude in the northern or southern hemisphere \n",
    "3. to the apex\n",
    "4. to GSM XY plane, depending on qualifier argument. \n",
    "\n",
    "Uses Tsyganenko or IGRF fields, depending on model argument. Input arguments are either GSM or Geodetic, depending on inputType argument. Output arguments are either GSM or Geodetic, depending on outputType argument. \n",
    "The full list of input arguments is as follows:\n",
    "- year (int)\n",
    "- month (int)\n",
    "- day (int)\n",
    "- hour (int)\n",
    "- min (int)\n",
    "- sec (int)\n",
    "- inputType: 0 for geodetic, 1 for GSM\n",
    "- outputType: 0 for geodetic, 1 for GSM\n",
    "The following parameters depend on inputType and must be the same length:\n",
    "- alts: a list of geodetic altitudes or ZGSMs of starting point\n",
    "- lats: a list of geodetic latitudes or XGSMs of starting point\n",
    "- lons: a list of longitude or YGSM of starting point\n",
    "- model: 0 for Tsyganenko, 1 for IGRF\n",
    "- qualifier: 0 for conjugate, 1 for north_alt, 2 for south_alt, 3 for apex, 4 for GSM XY plane\n",
    "- stopAlt (float): altitude in km to stop trace at, if qualifier is north_alt or south_alt. If other qualifier, this parameter is not required. Default is None, which will raise exception if qualifier is north_alt or south_alt\n",
    "\n",
    "The result is returned as a tuple of tuples, one tuple for point in (alts, lats, lons) lists, where each tuple has 3 items:\n",
    "- geodetic altitude or ZGSM of ending point\n",
    "- geodetic latitude or XGSM of ending point\n",
    "- geodetic longitude or YGSM of ending point\n",
    "\n",
    "\n",
    "We will be testing the traceMagneticFIeld service with the following input arguments:\n",
    "- datetime: 2010-03-01 00:01:30\n",
    "- inputType: 0 (geodetic)\n",
    "- outputType: 0 (geodetic)\n",
    "- alts: [.525, 200]\n",
    "- lats: [30.92, 30.92]\n",
    "- lons: [-78.87, -78.87]\n",
    "- model: 1 (IGRF)\n",
    "- qualifier: 1 (north_alt)\n",
    "- stopAlt: 1000"
   ]
  },
  {
   "cell_type": "code",
   "execution_count": 17,
   "metadata": {
    "vscode": {
     "languageId": "plaintext"
    }
   },
   "outputs": [
    {
     "name": "stdout",
     "output_type": "stream",
     "text": [
      "[(1000.0, -45.383779, -80.959112), (1000.0, -46.608476, -81.016383)]\n"
     ]
    }
   ],
   "source": [
    "trace = madDB.traceMagneticField(2010, 3, 1, 0, 1, 30, 0, 0, [.525, 200], [30.92, 30.92],\n",
    "                                 [-78.87, -78.87], 1, 1, 1000)\n",
    "print(trace)"
   ]
  },
  {
   "cell_type": "code",
   "execution_count": null,
   "metadata": {},
   "outputs": [],
   "source": []
  }
 ],
 "metadata": {
  "kernelspec": {
   "display_name": "Python 3 (ipykernel)",
   "language": "python",
   "name": "python3"
  },
  "language_info": {
   "codemirror_mode": {
    "name": "ipython",
    "version": 3
   },
   "file_extension": ".py",
   "mimetype": "text/x-python",
   "name": "python",
   "nbconvert_exporter": "python",
   "pygments_lexer": "ipython3",
   "version": "3.11.4"
  }
 },
 "nbformat": 4,
 "nbformat_minor": 2
}
